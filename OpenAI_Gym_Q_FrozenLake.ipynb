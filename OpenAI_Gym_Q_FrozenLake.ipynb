{
 "cells": [
  {
   "cell_type": "code",
   "execution_count": 1,
   "metadata": {},
   "outputs": [],
   "source": [
    "import gym\n",
    "\n",
    "import numpy as np\n",
    "\n",
    "env = gym.make('FrozenLake-v0')"
   ]
  },
  {
   "cell_type": "code",
   "execution_count": 2,
   "metadata": {},
   "outputs": [
    {
     "data": {
      "text/plain": [
       "array([[0., 0., 0., 0.],\n",
       "       [0., 0., 0., 0.],\n",
       "       [0., 0., 0., 0.],\n",
       "       [0., 0., 0., 0.],\n",
       "       [0., 0., 0., 0.],\n",
       "       [0., 0., 0., 0.],\n",
       "       [0., 0., 0., 0.],\n",
       "       [0., 0., 0., 0.],\n",
       "       [0., 0., 0., 0.],\n",
       "       [0., 0., 0., 0.],\n",
       "       [0., 0., 0., 0.],\n",
       "       [0., 0., 0., 0.],\n",
       "       [0., 0., 0., 0.],\n",
       "       [0., 0., 0., 0.],\n",
       "       [0., 0., 0., 0.],\n",
       "       [0., 0., 0., 0.]])"
      ]
     },
     "execution_count": 2,
     "metadata": {},
     "output_type": "execute_result"
    }
   ],
   "source": [
    "# Initialize the table to store Q values\n",
    "q_func = np.zeros((16, 4))\n",
    "\n",
    "q_func"
   ]
  },
  {
   "cell_type": "code",
   "execution_count": 3,
   "metadata": {},
   "outputs": [],
   "source": [
    "total_reward = 0.0\n",
    "\n",
    "# game begin\n",
    "for i_episode in range(10000):\n",
    "    # initialize\n",
    "    observation = env.reset()\n",
    "    # current reward\n",
    "    episode_reward = 0.0\n",
    "    \n",
    "    for t in range(100):\n",
    "        # Location after 1 Turn\n",
    "        current_state = observation\n",
    "        \n",
    "        if np.random.rand() < 0.1:\n",
    "            # random action\n",
    "            action = env.action_space.sample()\n",
    "        else:\n",
    "            # action for maximizing Q\n",
    "            action = np.argmax(q_func[current_state])\n",
    "\n",
    "        # first turn\n",
    "        observation, reward, done, info = env.step(action)\n",
    "        \n",
    "        # update Q\n",
    "        q_func[current_state,action] += 0.3 * (reward + 0.99 * np.max(q_func[observation,:]) - q_func[current_state,action])\n",
    "\n",
    "        # end\n",
    "        if done:\n",
    "            # Cumulative calculation of current game rewards\n",
    "            episode_reward += reward\n",
    "            \n",
    "    # Total compensation cumulative calculation\n",
    "    total_reward += episode_reward"
   ]
  },
  {
   "cell_type": "code",
   "execution_count": 4,
   "metadata": {},
   "outputs": [
    {
     "name": "stdout",
     "output_type": "stream",
     "text": [
      "1767.0\n",
      "0.1767\n"
     ]
    }
   ],
   "source": [
    "print(total_reward)\n",
    "\n",
    "# average\n",
    "print(total_reward/10000)"
   ]
  },
  {
   "cell_type": "code",
   "execution_count": 5,
   "metadata": {},
   "outputs": [
    {
     "data": {
      "text/plain": [
       "array([[0.54383322, 0.53956114, 0.53146867, 0.53358862],\n",
       "       [0.27132416, 0.3905943 , 0.13856531, 0.49319403],\n",
       "       [0.42731141, 0.38124738, 0.42402472, 0.4431334 ],\n",
       "       [0.15227308, 0.23605301, 0.1857564 , 0.43412863],\n",
       "       [0.56526504, 0.31454132, 0.47202713, 0.48363042],\n",
       "       [0.        , 0.        , 0.        , 0.        ],\n",
       "       [0.13235758, 0.13034399, 0.10518124, 0.16825617],\n",
       "       [0.        , 0.        , 0.        , 0.        ],\n",
       "       [0.34970798, 0.41955321, 0.39837156, 0.6287534 ],\n",
       "       [0.39994679, 0.63355631, 0.56669359, 0.53375452],\n",
       "       [0.51596657, 0.22388688, 0.42800972, 0.27783826],\n",
       "       [0.        , 0.        , 0.        , 0.        ],\n",
       "       [0.        , 0.        , 0.        , 0.        ],\n",
       "       [0.35358261, 0.27340884, 0.84904933, 0.6320028 ],\n",
       "       [0.75804024, 0.95474208, 0.75955096, 0.75054396],\n",
       "       [0.        , 0.        , 0.        , 0.        ]])"
      ]
     },
     "execution_count": 5,
     "metadata": {},
     "output_type": "execute_result"
    }
   ],
   "source": [
    "q_func"
   ]
  },
  {
   "cell_type": "code",
   "execution_count": 6,
   "metadata": {},
   "outputs": [],
   "source": [
    "# 총 보상\n",
    "total_reward = 0.0\n",
    "\n",
    "# 게임 시작\n",
    "for i_episode in range(1000):\n",
    "    \n",
    "    # 초기화\n",
    "    observation = env.reset()\n",
    "    # 현재 게임의 보상\n",
    "    episode_reward = 0.0\n",
    "    \n",
    "    for t in range(100):\n",
    "        # 1턴 실행 후의 위치를 현재 위치로 삼음\n",
    "        current_state = observation\n",
    "        \n",
    "        # Q값이 최대가 되는 행동을 선택함\n",
    "        action = np.argmax(q_func[current_state])\n",
    "        \n",
    "        # 1턴 실행\n",
    "        observation, reward, done, info = env.step(action)\n",
    "\n",
    "        # 종료\n",
    "        if done:\n",
    "            # 현재 게임 보상 누적 계산\n",
    "            episode_reward += reward\n",
    "    \n",
    "    # 총 보상 누적 계산\n",
    "    total_reward += episode_reward"
   ]
  },
  {
   "cell_type": "code",
   "execution_count": 7,
   "metadata": {},
   "outputs": [
    {
     "name": "stdout",
     "output_type": "stream",
     "text": [
      "674.0\n",
      "0.674\n"
     ]
    }
   ],
   "source": [
    "# 총 보상 출력\n",
    "print(total_reward)\n",
    "\n",
    "# 게임당 평균 보상 출력\n",
    "print(total_reward/1000)"
   ]
  },
  {
   "cell_type": "code",
   "execution_count": null,
   "metadata": {},
   "outputs": [],
   "source": []
  }
 ],
 "metadata": {
  "kernelspec": {
   "display_name": "Python 3",
   "language": "python",
   "name": "python3"
  },
  "language_info": {
   "codemirror_mode": {
    "name": "ipython",
    "version": 3
   },
   "file_extension": ".py",
   "mimetype": "text/x-python",
   "name": "python",
   "nbconvert_exporter": "python",
   "pygments_lexer": "ipython3",
   "version": "3.6.5"
  }
 },
 "nbformat": 4,
 "nbformat_minor": 2
}
