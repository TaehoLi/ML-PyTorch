{
 "cells": [
  {
   "cell_type": "code",
   "execution_count": 1,
   "metadata": {},
   "outputs": [],
   "source": [
    "import gym\n",
    "import numpy as np\n",
    "\n",
    "import torch\n",
    "from torch import nn\n",
    "from torch.autograd import Variable\n",
    "from torch import optim\n",
    "from torch.nn import functional as F\n",
    "\n",
    "env = gym.make('FrozenLake-v0')"
   ]
  },
  {
   "cell_type": "code",
   "execution_count": 2,
   "metadata": {},
   "outputs": [],
   "source": [
    "class Net(nn.Module):\n",
    "    def __init__(self):\n",
    "        super(Net, self).__init__()\n",
    "        self.fc1 = nn.Linear(16, 64)\n",
    "        self.fc2 = nn.Linear(64, 64)\n",
    "        self.fc3 = nn.Linear(64, 96)\n",
    "        self.fc4 = nn.Linear(96, 96)\n",
    "        self.fc5 = nn.Linear(96, 64)\n",
    "        self.fc6 = nn.Linear(64, 64)\n",
    "        self.fc7 = nn.Linear(64, 4)\n",
    "        \n",
    "    def forward(self, x):\n",
    "        x = Variable(x)\n",
    "        x = F.relu(self.fc1(x))\n",
    "        x = F.relu(self.fc2(x))\n",
    "        x = F.relu(self.fc3(x))\n",
    "        x = F.relu(self.fc4(x))\n",
    "        x = F.relu(self.fc5(x))\n",
    "        x = F.relu(self.fc6(x))\n",
    "        x = self.fc7(x)\n",
    "        return x\n",
    "\n",
    "model = Net()"
   ]
  },
  {
   "cell_type": "code",
   "execution_count": 3,
   "metadata": {},
   "outputs": [],
   "source": [
    "# one-hot vector -> Tensor\n",
    "def onehot2tensor(state):\n",
    "    tmp = np.zeros(16)\n",
    "    tmp[state] = 1\n",
    "    vector = np.array(tmp, dtype='float32')\n",
    "    tensor = torch.from_numpy(vector).float()\n",
    "    return tensor\n",
    "\n",
    "# apply to model\n",
    "def applymodel(tensor):\n",
    "    output_tensor = model(tensor)\n",
    "    output_array = output_tensor.data.numpy()                \n",
    "    return output_tensor, output_array"
   ]
  },
  {
   "cell_type": "code",
   "execution_count": 4,
   "metadata": {},
   "outputs": [
    {
     "name": "stdout",
     "output_type": "stream",
     "text": [
      "10 0.44389618625621097 1.0\n",
      "20 0.2900641488166684 3.0\n",
      "30 2.3960400241662683e-05 3.0\n",
      "40 2.766124715183893e-07 3.0\n",
      "50 1.7197047727361171e-10 3.0\n",
      "60 1.0021852061753987e-15 3.0\n",
      "70 1.4088490096811654e-09 3.0\n",
      "80 1.0223232311569463e-07 3.0\n",
      "90 5.728935888066122e-15 3.0\n",
      "100 1.881002545969829e-23 3.0\n"
     ]
    }
   ],
   "source": [
    "total_reward = 0.0\n",
    "criterion = nn.MSELoss()\n",
    "optimizer = optim.Adam(model.parameters(), lr=0.01)\n",
    "\n",
    "# game begin\n",
    "for i_episode in range(100):\n",
    "    # initialize\n",
    "    observation = env.reset()\n",
    "    episode_reward = 0.0\n",
    "    total_loss = 0.0\n",
    "\n",
    "    for t in range(100):\n",
    "        current_state = observation\n",
    "        \n",
    "        optimizer.zero_grad()\n",
    "\n",
    "        current_tensor = onehot2tensor(current_state)\n",
    "        current_output_tensor, current_output_array = applymodel(current_tensor)\n",
    "        \n",
    "        if np.random.rand() < 0.1:\n",
    "            action = env.action_space.sample()\n",
    "        else:\n",
    "            # action for maximizing Q\n",
    "            action = np.argmax(current_output_array)\n",
    "\n",
    "        # first step\n",
    "        observation, reward, done, info = env.step(action)\n",
    "\n",
    "        observation_tensor = onehot2tensor(observation)\n",
    "        observation_output_tensor, observation_output_array = applymodel(observation_tensor)\n",
    "        \n",
    "        # update Q\n",
    "        q = reward + 0.99 * np.max(observation_output_array)\n",
    "        q_array = np.copy(current_output_array)\n",
    "        q_array[action] = q\n",
    "        q_variable = Variable(torch.Tensor(q_array))\n",
    "\n",
    "        loss = criterion(current_output_tensor, q_variable)\n",
    "        loss.backward()\n",
    "        optimizer.step()\n",
    "        total_loss += loss.item()\n",
    "        \n",
    "        # finish\n",
    "        if done:\n",
    "            episode_reward += reward\n",
    "            \n",
    "    total_reward += episode_reward\n",
    "    \n",
    "    # print every 10 epochs\n",
    "    if (i_episode+1) % 10 == 0:\n",
    "        print(i_episode+1, total_loss, total_reward)"
   ]
  },
  {
   "cell_type": "code",
   "execution_count": 5,
   "metadata": {},
   "outputs": [
    {
     "name": "stdout",
     "output_type": "stream",
     "text": [
      "3.0\n",
      "0.03\n"
     ]
    }
   ],
   "source": [
    "print(total_reward)\n",
    "\n",
    "print(total_reward/100)"
   ]
  },
  {
   "cell_type": "code",
   "execution_count": 6,
   "metadata": {},
   "outputs": [],
   "source": [
    "total_reward = 0.0\n",
    "\n",
    "for i_episode in range(100):\n",
    "    observation = env.reset()\n",
    "    episode_reward = 0.0\n",
    "\n",
    "    for t in range(100):\n",
    "        current_state = observation\n",
    "        \n",
    "        current_tensor = onehot2tensor(current_state)\n",
    "        current_output_tensor, current_output_array = applymodel(current_tensor)\n",
    "        \n",
    "        action = np.argmax(current_output_array)\n",
    "\n",
    "        observation, reward, done, info = env.step(action)\n",
    "        \n",
    "        if done:\n",
    "            episode_reward += reward\n",
    "            \n",
    "    total_reward += episode_reward"
   ]
  },
  {
   "cell_type": "code",
   "execution_count": 7,
   "metadata": {},
   "outputs": [
    {
     "name": "stdout",
     "output_type": "stream",
     "text": [
      "5.0\n",
      "0.05\n"
     ]
    }
   ],
   "source": [
    "print(total_reward)\n",
    "\n",
    "print(total_reward/100)"
   ]
  },
  {
   "cell_type": "code",
   "execution_count": null,
   "metadata": {},
   "outputs": [],
   "source": []
  }
 ],
 "metadata": {
  "kernelspec": {
   "display_name": "Python 3",
   "language": "python",
   "name": "python3"
  },
  "language_info": {
   "codemirror_mode": {
    "name": "ipython",
    "version": 3
   },
   "file_extension": ".py",
   "mimetype": "text/x-python",
   "name": "python",
   "nbconvert_exporter": "python",
   "pygments_lexer": "ipython3",
   "version": "3.6.5"
  }
 },
 "nbformat": 4,
 "nbformat_minor": 2
}
